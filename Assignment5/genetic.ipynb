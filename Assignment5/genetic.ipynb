{
 "cells": [
  {
   "cell_type": "markdown",
   "metadata": {},
   "source": [
    "### Assignment 5: Genetic Algorithm\n",
    "Jake Giguere <giguere@bu.edu>"
   ]
  },
  {
   "cell_type": "code",
   "execution_count": 6,
   "metadata": {},
   "outputs": [],
   "source": [
    "import enum\n",
    "import numpy as np"
   ]
  },
  {
   "cell_type": "code",
   "execution_count": 7,
   "metadata": {},
   "outputs": [],
   "source": [
    "class cities(enum.IntEnum):\n",
    "    Boston = 0\n",
    "    London = 1\n",
    "    Mumbai = 2\n",
    "    Shanghai = 3"
   ]
  },
  {
   "cell_type": "markdown",
   "metadata": {},
   "source": [
    "### Define one hot function \n"
   ]
  },
  {
   "cell_type": "code",
   "execution_count": 8,
   "metadata": {},
   "outputs": [],
   "source": [
    "def one_hot(city, max_cities = 4):\n",
    "    one_hot = np.zeros(max_cities)\n",
    "    one_hot[city] = 1\n",
    "    return one_hot\n"
   ]
  },
  {
   "cell_type": "code",
   "execution_count": 9,
   "metadata": {},
   "outputs": [],
   "source": [
    "def crossover_one_hot(parent1, parent2, crossover_point, max_cities=4):\n",
    "    import numpy as np\n",
    "    \n",
    "    # Function to convert one-hot vector to city index\n",
    "    def one_hot_to_index(one_hot_vector):\n",
    "        return np.argmax(one_hot_vector)\n",
    "    \n",
    "    # Copy head segment from Parent 1\n",
    "    child_route = parent1[:crossover_point]\n",
    "    child_cities = set(one_hot_to_index(city) for city in child_route)\n",
    "    \n",
    "    # Append tail segment from Parent 2, skipping duplicates\n",
    "    for city in parent2[crossover_point:]:\n",
    "        city_idx = one_hot_to_index(city)\n",
    "        if city_idx not in child_cities:\n",
    "            child_route.append(city)\n",
    "            child_cities.add(city_idx)\n",
    "    \n",
    "    # Ensure all cities are included\n",
    "    total_cities = max_cities\n",
    "    if len(child_cities) < total_cities:\n",
    "        # Find missing cities\n",
    "        missing_cities = set(range(total_cities)) - child_cities\n",
    "        # Append missing cities in order of appearance in Parent 2\n",
    "        for city in parent2:\n",
    "            city_idx = one_hot_to_index(city)\n",
    "            if city_idx in missing_cities:\n",
    "                child_route.append(city)\n",
    "                child_cities.add(city_idx)\n",
    "                missing_cities.remove(city_idx)\n",
    "                if not missing_cities:\n",
    "                    break\n",
    "    \n",
    "    # Return to starting city\n",
    "    if not np.array_equal(child_route[0], child_route[-1]):\n",
    "        child_route.append(child_route[0])\n",
    "    \n",
    "    return child_route\n"
   ]
  },
  {
   "cell_type": "markdown",
   "metadata": {},
   "source": [
    "Define Cities and Indicies "
   ]
  },
  {
   "cell_type": "code",
   "execution_count": 10,
   "metadata": {},
   "outputs": [],
   "source": [
    "city_names = ['Boston', 'London', 'Mumbai', 'Shanghai']\n",
    "city_indices = {name: idx for idx, name in enumerate(city_names)}\n"
   ]
  },
  {
   "cell_type": "code",
   "execution_count": 11,
   "metadata": {},
   "outputs": [],
   "source": [
    "boston = one_hot(city_indices['Boston'])\n",
    "london = one_hot(city_indices['London'])\n",
    "mumbai = one_hot(city_indices['Mumbai'])\n",
    "shanghai = one_hot(city_indices['Shanghai'])\n"
   ]
  },
  {
   "cell_type": "code",
   "execution_count": 12,
   "metadata": {},
   "outputs": [],
   "source": [
    "# Parent 1 Route: Boston → Mumbai → London → Shanghai → Boston\n",
    "parent1 = [boston, mumbai, london, shanghai, boston]\n",
    "\n",
    "# Parent 2 Route: Boston → London → Mumbai → Shanghai → Boston\n",
    "parent2 = [boston, london, mumbai, shanghai, boston]\n"
   ]
  },
  {
   "cell_type": "code",
   "execution_count": 13,
   "metadata": {},
   "outputs": [],
   "source": [
    "crossover_point = 1  # As specified in your example\n",
    "\n",
    "# Generate child route\n",
    "child_route = crossover_one_hot(parent1, parent2, crossover_point, max_cities=4)\n"
   ]
  },
  {
   "cell_type": "code",
   "execution_count": 14,
   "metadata": {},
   "outputs": [
    {
     "name": "stdout",
     "output_type": "stream",
     "text": [
      "Child Route: Boston → London → Mumbai → Shanghai → Boston\n"
     ]
    }
   ],
   "source": [
    "def route_to_city_names(route):\n",
    "    return [city_names[np.argmax(city)] for city in route]\n",
    "\n",
    "# Print the child route in terms of city names\n",
    "print(\"Child Route:\", ' → '.join(route_to_city_names(child_route)))\n"
   ]
  },
  {
   "cell_type": "markdown",
   "metadata": {},
   "source": [
    "### Mutation "
   ]
  },
  {
   "cell_type": "code",
   "execution_count": null,
   "metadata": {},
   "outputs": [],
   "source": [
    "import numpy as np\n",
    "import random\n",
    "\n",
    "def mutate_route(route):\n",
    "    # Ensure the route has enough cities to perform a mutation\n",
    "    if len(route) <= 3:\n",
    "        # Not enough cities to swap (excluding start/end city)\n",
    "        return route.copy()\n",
    "    \n",
    "    # Exclude first and last indices if the route starts and ends at the same city\n",
    "    start_idx = 1\n",
    "    end_idx = len(route) - 1 if np.array_equal(route[0], route[-1]) else len(route)\n",
    "    \n",
    "    # Select two distinct indices for swapping\n",
    "    idx_range = list(range(start_idx, end_idx))\n",
    "    i, j = random.sample(idx_range, 2)\n",
    "    \n",
    "    # Perform the swap\n",
    "    mutated_route = route.copy()\n",
    "    mutated_route[i], mutated_route[j] = mutated_route[j], mutated_route[i]\n",
    "    \n",
    "    return mutated_route\n"
   ]
  }
 ],
 "metadata": {
  "kernelspec": {
   "display_name": "base",
   "language": "python",
   "name": "python3"
  },
  "language_info": {
   "codemirror_mode": {
    "name": "ipython",
    "version": 3
   },
   "file_extension": ".py",
   "mimetype": "text/x-python",
   "name": "python",
   "nbconvert_exporter": "python",
   "pygments_lexer": "ipython3",
   "version": "3.11.7"
  }
 },
 "nbformat": 4,
 "nbformat_minor": 2
}
